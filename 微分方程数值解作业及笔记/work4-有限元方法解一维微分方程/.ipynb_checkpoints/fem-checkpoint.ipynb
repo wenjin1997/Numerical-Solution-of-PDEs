{
 "cells": [
  {
   "cell_type": "markdown",
   "metadata": {},
   "source": [
    "# Finite Element Method"
   ]
  },
  {
   "cell_type": "code",
   "execution_count": 108,
   "metadata": {},
   "outputs": [],
   "source": [
    "import numpy as np\n",
    "from scipy import linalg"
   ]
  },
  {
   "cell_type": "code",
   "execution_count": 109,
   "metadata": {},
   "outputs": [],
   "source": [
    "u0 = 0\n",
    "uN = 1\n",
    "N = 2 # the number of the interior node\n",
    "h = (uN - u0) / N "
   ]
  },
  {
   "cell_type": "code",
   "execution_count": 110,
   "metadata": {},
   "outputs": [
    {
     "name": "stdout",
     "output_type": "stream",
     "text": [
      "0.5\n"
     ]
    }
   ],
   "source": [
    "print(h)"
   ]
  },
  {
   "cell_type": "code",
   "execution_count": 111,
   "metadata": {},
   "outputs": [],
   "source": [
    "estiff = [[1/h, -1/h],[-1/h, 1/h]]"
   ]
  },
  {
   "cell_type": "code",
   "execution_count": 112,
   "metadata": {},
   "outputs": [
    {
     "name": "stdout",
     "output_type": "stream",
     "text": [
      "[[2.0, -2.0], [-2.0, 2.0]]\n"
     ]
    }
   ],
   "source": [
    "print (estiff)"
   ]
  },
  {
   "cell_type": "code",
   "execution_count": 133,
   "metadata": {},
   "outputs": [
    {
     "name": "stdout",
     "output_type": "stream",
     "text": [
      "1\n",
      "[[ 4. -2.  0.]\n",
      " [-2.  2.  0.]\n",
      " [ 0.  0.  0.]]\n",
      "[[0.5 ]\n",
      " [0.25]\n",
      " [0.  ]]\n"
     ]
    }
   ],
   "source": [
    "A = np.zeros([N+1, N+1])\n",
    "RHS = np.zeros([N+1,1])\n",
    "for i in range(1, N):\n",
    "    A[i,i] += 1/h\n",
    "    A[i-1, i-1] += 1/h\n",
    "    A[i-1,i] += -1/h\n",
    "    A[i,i-1] += -1/h\n",
    "    RHS[i] += (h/2)\n",
    "    RHS[i-1] += (h/2)\n",
    "    print(i)\n",
    "A[0,0] += 1/h\n",
    "RHS[0] += (h/2)\n",
    "print(A)\n",
    "print(RHS)"
   ]
  },
  {
   "cell_type": "code",
   "execution_count": 134,
   "metadata": {},
   "outputs": [],
   "source": [
    "u = np.zeros([N+1,1])"
   ]
  },
  {
   "cell_type": "code",
   "execution_count": 135,
   "metadata": {},
   "outputs": [
    {
     "name": "stdout",
     "output_type": "stream",
     "text": [
      "[[0.5 ]\n",
      " [0.25]\n",
      " [0.  ]]\n",
      "0.0\n",
      "[[0.5 ]\n",
      " [0.25]\n",
      " [0.  ]]\n",
      "[[ 0.  ]\n",
      " [ 0.25]\n",
      " [-0.5 ]]\n",
      "[[1. 0. 0.]\n",
      " [0. 2. 0.]\n",
      " [0. 0. 1.]]\n"
     ]
    }
   ],
   "source": [
    "# 处理边界条件\n",
    "# 先更新右端项\n",
    "print(RHS)\n",
    "for i in range(1,N):\n",
    "    print(A[i,N])\n",
    "    RHS += - A[i,N]* (-0.5)\n",
    "print(RHS)\n",
    "RHS[0] = 0\n",
    "RHS[N] = -0.5\n",
    "print(RHS)\n",
    "    \n",
    "# 更改矩阵A\n",
    "for i in range(N+1):\n",
    "    A[0,i] = 0\n",
    "    A[i,0] = 0\n",
    "    A[N,i] = 0\n",
    "    A[i,N] = 0\n",
    "A[0,0] = 1\n",
    "A[N,N] = 1\n",
    "print(A)"
   ]
  },
  {
   "cell_type": "code",
   "execution_count": 136,
   "metadata": {},
   "outputs": [
    {
     "name": "stdout",
     "output_type": "stream",
     "text": [
      "[[ 0.   ]\n",
      " [ 0.125]\n",
      " [-0.5  ]]\n"
     ]
    }
   ],
   "source": [
    "x = linalg.solve(A, RHS)\n",
    "print(x)"
   ]
  },
  {
   "cell_type": "code",
   "execution_count": 137,
   "metadata": {},
   "outputs": [
    {
     "name": "stdout",
     "output_type": "stream",
     "text": [
      "[[-0.   ]\n",
      " [-0.125]\n",
      " [-0.5  ]]\n"
     ]
    }
   ],
   "source": [
    "for i in range(N+1):\n",
    "    u[i] = (-1) * 0.5 *(i * h) * (i * h)\n",
    "print(u)"
   ]
  }
 ],
 "metadata": {
  "kernelspec": {
   "display_name": "Python 3",
   "language": "python",
   "name": "python3"
  },
  "language_info": {
   "codemirror_mode": {
    "name": "ipython",
    "version": 3
   },
   "file_extension": ".py",
   "mimetype": "text/x-python",
   "name": "python",
   "nbconvert_exporter": "python",
   "pygments_lexer": "ipython3",
   "version": "3.8.5"
  }
 },
 "nbformat": 4,
 "nbformat_minor": 4
}
