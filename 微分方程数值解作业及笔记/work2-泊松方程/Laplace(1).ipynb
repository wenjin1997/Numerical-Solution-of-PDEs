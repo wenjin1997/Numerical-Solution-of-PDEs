{
 "cells": [
  {
   "cell_type": "markdown",
   "metadata": {},
   "source": [
    "# A Tutorial of Implementing FDM for Laplace equation"
   ]
  },
  {
   "cell_type": "markdown",
   "metadata": {},
   "source": [
    "## Laplace's equation\n",
    "Consider the Laplace equation\n",
    "$$\n",
    "    \\nabla^2 u = 0, \\qquad (x, y) \\in \\Omega\n",
    "$$\n",
    "with the Dirichlet boundary conditions"
   ]
  },
  {
   "cell_type": "markdown",
   "metadata": {},
   "source": [
    "## 5-points Laplacian FDM for the Laplace equation"
   ]
  },
  {
   "cell_type": "markdown",
   "metadata": {},
   "source": [
    "### The grid\n",
    "We start from the uniform gird $(x_i, y_j)$, where\n",
    "$$ \n",
    "    x_i = i\\Delta x, \\quad\\text{for } i = 0, 1, \\ldots, N+1,\\qquad\\text{and } \\Delta x = \\frac{1}{N+1}\n",
    "$$\n",
    "and\n",
    "$$\n",
    "    y_i = j\\Delta y, \\quad\\text{for } j = 0, 1, \\ldots, M+1,\\qquad\\text{and } \\Delta y = \\frac{1}{M+1}\n",
    "$$"
   ]
  },
  {
   "cell_type": "markdown",
   "metadata": {},
   "source": [
    "**5-points Laplacian**\n",
    "$$\n",
    "    \\lambda^2u_{i-1,j} + \\lambda^2 u_{i+1,j} + u_{i,j-1} + u_{i,j+1} - 2(1+\\lambda^2)u_{i,j} = 0,\n",
    "$$\n",
    "where $\\lambda = \\frac{\\Delta y}{\\Delta x}$."
   ]
  },
  {
   "cell_type": "markdown",
   "metadata": {},
   "source": [
    "**Dirichlet BC**\n",
    "* $x = 0$: $u_{0,j} = g_L(y_j),\\,\\text{for } j = 0,\\ldots,M+1$, \n",
    "* $x = 1$: $u_{N+1,j} = g_R(y_j),\\,\\text{for } j = 0,\\ldots,M+1$, \n",
    "* $y = 0$: $u_{i,0} = g_B(x_i),\\,\\text{for } i = 0,\\ldots,N+1$, \n",
    "* $y = 1$: $u_{i,M+1} = g_T(x_i),\\,\\text{for } i = 0,\\ldots,N+1$."
   ]
  },
  {
   "cell_type": "markdown",
   "metadata": {},
   "source": [
    "### Build the matrix (discrete linear system)"
   ]
  },
  {
   "cell_type": "markdown",
   "metadata": {},
   "source": [
    "* We need to assemble the above $NM$ linear equations into a linear system $AU = F$"
   ]
  },
  {
   "cell_type": "markdown",
   "metadata": {},
   "source": [
    "* $A$ is $NM \\times NM$ matrix, and $U$ is the vector of all unknowns"
   ]
  },
  {
   "cell_type": "markdown",
   "metadata": {},
   "source": [
    "* Before assembling the matrix $A$, we need to order the unknowns $u_{i,j}$ to construct the vector. Here, we use the rowwise ordering\n",
    "$$\n",
    "    U = [u_{1,1}, \\ldots, u_{N,1},u_{1,2},\\ldots,u_{N,2},\\ldots, u_{1,M},\\ldots, u_{N,M}]^T.\n",
    "$$"
   ]
  },
  {
   "cell_type": "markdown",
   "metadata": {},
   "source": [
    "* The relation between $U_\\ell$ with $u_{i,j}$:\n",
    "$$\n",
    "    U_\\ell = u_{i,j}\\qquad \\ell = (j-1)N + i\n",
    "$$"
   ]
  },
  {
   "cell_type": "markdown",
   "metadata": {},
   "source": [
    "Then, the 5-points Laplacian becomes\n",
    "$$\n",
    "    \\lambda^2 U_{\\ell-1} + \\lambda^2 U_{\\ell+1} + U_{\\ell-N} + U_{\\ell+N} - 2(1+\\lambda^2)U_{\\ell} = 0, \\qquad \\text{for } \\ell = 1, \\ldots, NM. \n",
    "$$"
   ]
  },
  {
   "cell_type": "markdown",
   "metadata": {},
   "source": [
    "**Assemble the matrix A**"
   ]
  },
  {
   "cell_type": "markdown",
   "metadata": {},
   "source": [
    "In general, the matrix $A$ has the structure as follows:\n",
    "$$\n",
    "A = \\begin{bmatrix}T & D \\\\ D & T & D \\\\ & & \\ddots & \\ddots &\\ddots \\\\ & & & D & T & D \\\\ &&&& D & T\\end{bmatrix},\n",
    "$$"
   ]
  },
  {
   "cell_type": "markdown",
   "metadata": {},
   "source": [
    "where $D$ is the idenity matrix $I_N$, and the matrix $T$ is a tridiagonal matrix ($N\\times N$)\n",
    "$$\n",
    "T = \\begin{bmatrix}-2(1+\\lambda^2) & \\lambda^2 \\\\ \\lambda^2 & -2(1+\\lambda^2) & \\lambda^2 \\\\ & & \\ddots & \\ddots &\\ddots \\\\ & & & \\lambda^2 & -2(1+\\lambda^2) & \\lambda^2 \\\\ &&&& \\lambda^2 & -2(1+\\lambda^2)\\end{bmatrix}.\n",
    "$$"
   ]
  },
  {
   "cell_type": "markdown",
   "metadata": {},
   "source": [
    "* Generate matrices $T$ and $D$:"
   ]
  },
  {
   "cell_type": "code",
   "execution_count": 1,
   "metadata": {},
   "outputs": [],
   "source": [
    "import numpy as np"
   ]
  },
  {
   "cell_type": "code",
   "execution_count": 2,
   "metadata": {},
   "outputs": [],
   "source": [
    "def generate_TD(N, dx, dy):\n",
    "    T = np.zeros([N,N])\n",
    "    D = np.zeros([N,N])\n",
    "    a = (dy/dx)**2\n",
    "    for i in range(N):\n",
    "        T[i,i] = -2*(1+a)\n",
    "        D[i,i] = 1\n",
    "        if (i < N-1):\n",
    "            T[i,i+1] = a\n",
    "        if (i > 0):\n",
    "            T[i,i-1] = a\n",
    "    return T, D"
   ]
  },
  {
   "cell_type": "markdown",
   "metadata": {},
   "source": [
    "* Assemble the matrix $A$ with $T$ and $D$"
   ]
  },
  {
   "cell_type": "code",
   "execution_count": 3,
   "metadata": {},
   "outputs": [],
   "source": [
    "def assemble_A(N, M, dx, dy):\n",
    "    T, D = generate_TD(N, dx, dy)\n",
    "    A = np.zeros([N*M, N*M])\n",
    "    for j in range(M):\n",
    "        A[j*N:(j+1)*N, j*N:(j+1)*N] = T\n",
    "        if (j < M-1):\n",
    "            A[j*N:(j+1)*N, (j+1)*N:(j+2)*N] = D\n",
    "        if (j > 0):\n",
    "            A[j*N:(j+1)*N, (j-1)*N:(j)*N] = D\n",
    "    return A"
   ]
  },
  {
   "cell_type": "code",
   "execution_count": 10,
   "metadata": {},
   "outputs": [
    {
     "name": "stdout",
     "output_type": "stream",
     "text": [
      "[[-4.  1.  0.  0.]\n",
      " [ 1. -4.  1.  0.]\n",
      " [ 0.  1. -4.  1.]\n",
      " [ 0.  0.  1. -4.]]\n",
      "[[1. 0. 0. 0.]\n",
      " [0. 1. 0. 0.]\n",
      " [0. 0. 1. 0.]\n",
      " [0. 0. 0. 1.]]\n"
     ]
    }
   ],
   "source": [
    "N = 4\n",
    "M = 4\n",
    "dx = 1./(N+1)\n",
    "dy = 1./(M+1)\n",
    "T, D = generate_TD(N, dx, dy)\n",
    "print (T)\n",
    "print (D)"
   ]
  },
  {
   "cell_type": "code",
   "execution_count": 11,
   "metadata": {},
   "outputs": [
    {
     "name": "stdout",
     "output_type": "stream",
     "text": [
      "[[-4.  1.  0.  0.  1.  0.  0.  0.  0.  0.  0.  0.  0.  0.  0.  0.]\n",
      " [ 1. -4.  1.  0.  0.  1.  0.  0.  0.  0.  0.  0.  0.  0.  0.  0.]\n",
      " [ 0.  1. -4.  1.  0.  0.  1.  0.  0.  0.  0.  0.  0.  0.  0.  0.]\n",
      " [ 0.  0.  1. -4.  0.  0.  0.  1.  0.  0.  0.  0.  0.  0.  0.  0.]\n",
      " [ 1.  0.  0.  0. -4.  1.  0.  0.  1.  0.  0.  0.  0.  0.  0.  0.]\n",
      " [ 0.  1.  0.  0.  1. -4.  1.  0.  0.  1.  0.  0.  0.  0.  0.  0.]\n",
      " [ 0.  0.  1.  0.  0.  1. -4.  1.  0.  0.  1.  0.  0.  0.  0.  0.]\n",
      " [ 0.  0.  0.  1.  0.  0.  1. -4.  0.  0.  0.  1.  0.  0.  0.  0.]\n",
      " [ 0.  0.  0.  0.  1.  0.  0.  0. -4.  1.  0.  0.  1.  0.  0.  0.]\n",
      " [ 0.  0.  0.  0.  0.  1.  0.  0.  1. -4.  1.  0.  0.  1.  0.  0.]\n",
      " [ 0.  0.  0.  0.  0.  0.  1.  0.  0.  1. -4.  1.  0.  0.  1.  0.]\n",
      " [ 0.  0.  0.  0.  0.  0.  0.  1.  0.  0.  1. -4.  0.  0.  0.  1.]\n",
      " [ 0.  0.  0.  0.  0.  0.  0.  0.  1.  0.  0.  0. -4.  1.  0.  0.]\n",
      " [ 0.  0.  0.  0.  0.  0.  0.  0.  0.  1.  0.  0.  1. -4.  1.  0.]\n",
      " [ 0.  0.  0.  0.  0.  0.  0.  0.  0.  0.  1.  0.  0.  1. -4.  1.]\n",
      " [ 0.  0.  0.  0.  0.  0.  0.  0.  0.  0.  0.  1.  0.  0.  1. -4.]]\n"
     ]
    }
   ],
   "source": [
    "A = assemble_A(N, M, dx, dy)\n",
    "print (A)"
   ]
  },
  {
   "cell_type": "code",
   "execution_count": 12,
   "metadata": {},
   "outputs": [
    {
     "data": {
      "image/png": "[encoded data removed]",
      "text/plain": [
       "<Figure size 432x288 with 1 Axes>"
      ]
     },
     "metadata": {
      "needs_background": "light"
     },
     "output_type": "display_data"
    }
   ],
   "source": [
    "import matplotlib.pyplot as plt\n",
    "\n",
    "plt.spy(A)\n",
    "plt.show()"
   ]
  },
  {
   "cell_type": "markdown",
   "metadata": {},
   "source": [
    "**Assemble the vector F**"
   ]
  },
  {
   "cell_type": "markdown",
   "metadata": {},
   "source": [
    "* Most entries of $F$ are zeros\n",
    "* If $U_\\ell$ is next to boundaries, then $F_\\ell$ need to be modified according to the boundary conditions"
   ]
  },
  {
   "cell_type": "markdown",
   "metadata": {},
   "source": [
    "* Left boundary $g_L$: $F_{1,j} += -\\lambda^2 g_L(y_j)$ for $j = 1, \\ldots, M$ "
   ]
  },
  {
   "cell_type": "markdown",
   "metadata": {},
   "source": [
    "* Right boundary $g_R$:\n",
    "* Bottom boundary $g_B$:\n",
    "* Top bounday $g_T$:"
   ]
  },
  {
   "cell_type": "code",
   "execution_count": 14,
   "metadata": {},
   "outputs": [],
   "source": [
    "def gL(y):\n",
    "    return 1.\n",
    "\n",
    "def gR(y):\n",
    "    return 0.\n",
    "\n",
    "def gB(x):\n",
    "    return 0.\n",
    "\n",
    "def gT(x):\n",
    "    return 0.\n"
   ]
  },
  {
   "cell_type": "code",
   "execution_count": 15,
   "metadata": {},
   "outputs": [],
   "source": [
    "def assemble_F(x, y, dx, dy, N, M, gL, gR, gB, gT):\n",
    "    F = np.zeros(N*M)\n",
    "    \n",
    "    a = (dy/dx)**2\n",
    "    # left BCs\n",
    "    for j in range(M):\n",
    "        F[j*N] += -a*gL(y[j+1])\n",
    "        \n",
    "    # right BCs\n",
    "    \n",
    "    # bottom BCs\n",
    "    \n",
    "    # top BCs\n",
    "    \n",
    "    return F "
   ]
  },
  {
   "cell_type": "code",
   "execution_count": 22,
   "metadata": {},
   "outputs": [],
   "source": [
    "def Laplace_solver(N, M, gL, gR, gB, gT):\n",
    "    dx = 1./(N+1)\n",
    "    dy = 1./(M+1)\n",
    "    x = np.linspace(0, 1, N+2)\n",
    "    y = np.linspace(0, 1, M+2)\n",
    "    \n",
    "    A = assemble_A(N, M, dx, dy)\n",
    "    \n",
    "    F = assemble_F(x, y, dx, dy, N, M, gL, gR, gB, gT)\n",
    "    \n",
    "    U = np.linalg.solve(A, F)\n",
    "    \n",
    "    u = np.reshape(U, (N,M))\n",
    "    \n",
    "    X, Y = np.meshgrid(x[1:N+1], y[1:M+1])\n",
    "    fig = plt.figure()\n",
    "    ax = fig.add_subplot(1, 1, 1, projection='3d')\n",
    "    \n",
    "    ax.plot_surface(X, Y, u)\n",
    "    plt.show()\n",
    "    print (u)"
   ]
  },
  {
   "cell_type": "code",
   "execution_count": 23,
   "metadata": {},
   "outputs": [
    {
     "data": {
      "image/png": "[encoded data removed]",
      "text/plain": [
       "<Figure size 432x288 with 1 Axes>"
      ]
     },
     "metadata": {
      "needs_background": "light"
     },
     "output_type": "display_data"
    },
    {
     "name": "stdout",
     "output_type": "stream",
     "text": [
      "[[0.48892501 0.2809096  0.17883715 0.12034379 0.0828866  0.05699881\n",
      "  0.03802735 0.02330652 0.01107499]\n",
      " [0.67479043 0.45587625 0.31409522 0.21965141 0.15420382 0.10708127\n",
      "  0.07180408 0.04412375 0.02099344]\n",
      " [0.75436048 0.55370976 0.40201605 0.2899628  0.207196   0.14531836\n",
      "  0.09798395 0.06039095 0.02877502]\n",
      " [0.78894171 0.60258625 0.45029644 0.33098776 0.239299   0.16901224\n",
      "  0.1144224  0.07068108 0.03371569]\n",
      " [0.79882012 0.61739708 0.46559569 0.3443928  0.25       0.1770092\n",
      "  0.12001232 0.07419529 0.03540667]\n",
      " [0.78894171 0.60258625 0.45029644 0.33098776 0.239299   0.16901224\n",
      "  0.1144224  0.07068108 0.03371569]\n",
      " [0.75436048 0.55370976 0.40201605 0.2899628  0.207196   0.14531836\n",
      "  0.09798395 0.06039095 0.02877502]\n",
      " [0.67479043 0.45587625 0.31409522 0.21965141 0.15420382 0.10708127\n",
      "  0.07180408 0.04412375 0.02099344]\n",
      " [0.48892501 0.2809096  0.17883715 0.12034379 0.0828866  0.05699881\n",
      "  0.03802735 0.02330652 0.01107499]]\n"
     ]
    }
   ],
   "source": [
    "Laplace_solver(9, 9, gL, gR, gB, gT)"
   ]
  },
  {
   "cell_type": "code",
   "execution_count": null,
   "metadata": {},
   "outputs": [],
   "source": []
  }
 ],
 "metadata": {
  "kernelspec": {
   "display_name": "Python 3",
   "language": "python",
   "name": "python3"
  },
  "language_info": {
   "codemirror_mode": {
    "name": "ipython",
    "version": 3
   },
   "file_extension": ".py",
   "mimetype": "text/x-python",
   "name": "python",
   "nbconvert_exporter": "python",
   "pygments_lexer": "ipython3",
   "version": "3.8.5"
  }
 },
 "nbformat": 4,
 "nbformat_minor": 4
}
